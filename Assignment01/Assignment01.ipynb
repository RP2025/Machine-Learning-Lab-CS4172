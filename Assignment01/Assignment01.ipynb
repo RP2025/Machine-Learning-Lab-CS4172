{
  "nbformat": 4,
  "nbformat_minor": 0,
  "metadata": {
    "colab": {
      "provenance": [],
      "authorship_tag": "ABX9TyNSpYciK2ZUPyuGo82Ui0W9",
      "include_colab_link": true
    },
    "kernelspec": {
      "name": "python3",
      "display_name": "Python 3"
    },
    "language_info": {
      "name": "python"
    }
  },
  "cells": [
    {
      "cell_type": "markdown",
      "metadata": {
        "id": "view-in-github",
        "colab_type": "text"
      },
      "source": [
        "<a href=\"https://colab.research.google.com/github/RP2025/Machine-Learning-Lab-CS4172/blob/main/Assignment01/Assignment01.ipynb\" target=\"_parent\"><img src=\"https://colab.research.google.com/assets/colab-badge.svg\" alt=\"Open In Colab\"/></a>"
      ]
    },
    {
      "cell_type": "markdown",
      "source": [
        "#**Assignment 01**\n"
      ],
      "metadata": {
        "id": "Iz75NU3hJW39"
      }
    },
    {
      "cell_type": "markdown",
      "source": [
        "###Reading data in PANDAS Dataframe"
      ],
      "metadata": {
        "id": "J8A91HU6J0Os"
      }
    },
    {
      "cell_type": "code",
      "execution_count": null,
      "metadata": {
        "id": "5qbsKY3nJOtd"
      },
      "outputs": [],
      "source": []
    }
  ]
}